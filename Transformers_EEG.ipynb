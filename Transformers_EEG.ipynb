{
  "nbformat": 4,
  "nbformat_minor": 0,
  "metadata": {
    "colab": {
      "name": "Transformers_EEG.ipynb",
      "provenance": [],
      "collapsed_sections": []
    },
    "kernelspec": {
      "name": "python3",
      "display_name": "Python 3"
    },
    "language_info": {
      "name": "python"
    }
  },
  "cells": [
    {
      "cell_type": "code",
      "execution_count": 1,
      "metadata": {
        "id": "MsS2OQxzaPze"
      },
      "outputs": [],
      "source": [
        "import torch\n",
        "import torch.nn as nn\n",
        "import torch.nn.functional as F\n",
        "import numpy as np\n",
        "import torch.optim as optim"
      ]
    },
    {
      "cell_type": "code",
      "source": [
        "class Attention(nn.Module):\n",
        "  def __init__(self, dim1, dim2):\n",
        "    super(Attention, self).__init__()\n",
        "    self.Queries = nn.Linear(dim2, dim2)\n",
        "    self.Keys = nn.Linear(dim2, dim2)\n",
        "    self.Values = nn.Linear(dim2, dim2)\n",
        "    self.size = dim1\n",
        "  def forward(self, Query, Key, Value):\n",
        "    Query = self.Queries(Query)\n",
        "    Key = self.Keys(Key)\n",
        "    Value = self.Values(Value)\n",
        "    x = torch.mm(Query, torch.t(Key))\n",
        "    x = torch.softmax(x/(self.size**(1/2)), dim=1)\n",
        "    attention = torch.mm(x, Value)\n",
        "    return attention"
      ],
      "metadata": {
        "id": "zrkNPynPB5FX"
      },
      "execution_count": 2,
      "outputs": []
    },
    {
      "cell_type": "code",
      "source": [
        "class Encoder(nn.Module):\n",
        "  def __init__(self, dim1, dim2, for_dim, no_heads):\n",
        "    super(Encoder, self).__init__()\n",
        "    self.dim1 = dim1\n",
        "    self.dim2 = dim2\n",
        "    self.Attention = Attention(dim1, dim2)\n",
        "    self.no_heads = no_heads\n",
        "    self.norm = nn.LayerNorm(dim2)\n",
        "    self.feedforward = self.feed_forward(dim2, for_dim)\n",
        "  def feed_forward(self, dimension1, dimension2):\n",
        "    return nn.Sequential(\n",
        "        nn.Linear(dimension1, dimension2),\n",
        "        nn.ReLU(),\n",
        "        nn.Linear(dimension2, dimension1)\n",
        "    )\n",
        "  def forward(self, Data):\n",
        "    x = torch.tensor([])\n",
        "    for i in range(self.no_heads):\n",
        "      x = torch.cat((x, self.Attention(Data, Data, Data)), 0)\n",
        "    x1 = Data\n",
        "    for i in range(self.no_heads - 1):\n",
        "      x1 = torch.cat((x1, Data), 0)\n",
        "    x = self.norm(x + x1)\n",
        "    x2 = torch.reshape(x, (self.no_heads, self.dim1, self.dim2))\n",
        "    x = torch.mean(x2, 0)\n",
        "    x1 = self.feedforward(x)\n",
        "    return self.norm(x + x1)"
      ],
      "metadata": {
        "id": "09rRLmn2GGHE"
      },
      "execution_count": 3,
      "outputs": []
    },
    {
      "cell_type": "code",
      "source": [
        "class Model(nn.Module):\n",
        "  def __init__(self):\n",
        "    super(Model, self).__init__()\n",
        "    self.Enc = Encoder(240, 16, 32, 2)\n",
        "    self.Flatten = nn.Flatten(0, -1)\n",
        "    self.Layer1 = nn.Linear(3840, 256)\n",
        "    self.Layer2 = nn.Linear(256, 128)\n",
        "    self.Layer3 = nn.Linear(128, 64)\n",
        "    self.Layer4 = nn.Linear(64, 16)\n",
        "    self.Layer5 = nn.Linear(16, 3)\n",
        "    self.Drop = nn.Dropout(p=0.25)\n",
        "  def forward(self, x):\n",
        "    x = self.Enc(x)\n",
        "    x = self.Enc(x)\n",
        "    x = self.Enc(x)\n",
        "    x = self.Enc(x)\n",
        "    x = self.Flatten(x)\n",
        "    x = self.Drop(F.relu(self.Layer1(x)))\n",
        "    x = self.Drop(F.relu(self.Layer2(x)))\n",
        "    x = F.relu(self.Layer3(x))\n",
        "    x = F.relu(self.Layer4(x))\n",
        "    x = torch.special.expit(self.Layer5(x))\n",
        "    return x"
      ],
      "metadata": {
        "id": "pgjnye69QRWq"
      },
      "execution_count": 4,
      "outputs": []
    },
    {
      "cell_type": "code",
      "source": [
        "import scipy.io\n",
        "daata = scipy.io.loadmat('/content/drive/MyDrive/Data/new_data.mat')\n",
        "data1 = daata['data']"
      ],
      "metadata": {
        "id": "U26P6K0bfsjt"
      },
      "execution_count": 5,
      "outputs": []
    },
    {
      "cell_type": "code",
      "source": [
        "import scipy.io\n",
        "daata = scipy.io.loadmat('/content/drive/MyDrive/Data/labels.mat')\n",
        "label = daata['labels']"
      ],
      "metadata": {
        "id": "d8KFgHefVaAt"
      },
      "execution_count": 6,
      "outputs": []
    },
    {
      "cell_type": "code",
      "source": [
        "data = np.zeros((11281,240,16))\n",
        "for i in range(0,11281):\n",
        "  data[i,:,0] = data1[i,:,21]\n",
        "  data[i,:,1] = data1[i,:,23]\n",
        "  data[i,:,2] = data1[i,:,8]\n",
        "  data[i,:,3] = data1[i,:,12]\n",
        "  data[i,:,4] = data1[i,:,46]\n",
        "  data[i,:,5] = data1[i,:,54]\n",
        "  data[i,:,6] = data1[i,:,60]\n",
        "  data[i,:,7] = data1[i,:,62]\n",
        "  data[i,:,8] = data1[i,:,29]\n",
        "  data[i,:,9] = data1[i,:,37]\n",
        "  data[i,:,10] = data1[i,:,31]\n",
        "  data[i,:,11] = data1[i,:,35]\n",
        "  data[i,:,12] = data1[i,:,40]\n",
        "  data[i,:,13] = data1[i,:,41]\n",
        "  data[i,:,14] = data1[i,:,48]\n",
        "  data[i,:,15] = data1[i,:,52]\n",
        "data = (data+1)/2"
      ],
      "metadata": {
        "id": "sxlGSx99TXVV"
      },
      "execution_count": 7,
      "outputs": []
    },
    {
      "cell_type": "code",
      "source": [
        "Data = []\n",
        "Label = []\n",
        "for i in range(11281):\n",
        "  print(i)\n",
        "  Data.append(torch.tensor(data[i]).float())\n",
        "  Label.append(torch.tensor(label[i]).float())"
      ],
      "metadata": {
        "id": "6mt9nT7QVSqq"
      },
      "execution_count": null,
      "outputs": []
    },
    {
      "cell_type": "code",
      "source": [
        "Data = torch.stack(Data)\n",
        "Label = torch.stack(Label)"
      ],
      "metadata": {
        "id": "uyndM8okXL6H"
      },
      "execution_count": 9,
      "outputs": []
    },
    {
      "cell_type": "code",
      "source": [
        "net = Model()\n",
        "optimizer = optim.SGD(net.parameters(), lr=0.003, momentum=0.9)\n",
        "criterion = nn.MSELoss()\n",
        "loss_ = []\n",
        "for i in range(10):\n",
        "  sol = []\n",
        "  for j in range(1281):\n",
        "    print(j)\n",
        "    sol.append(net(Data[j]))\n",
        "  sol = torch.stack(sol)\n",
        "  loss = criterion(sol, Label[0:1281])\n",
        "  net.zero_grad()\n",
        "  loss.backward()\n",
        "  optimizer.step()\n",
        "  loss_.append(int(loss.item()))\n",
        "  print('Loss in Iteration No.' + str(i) + ' is ' + str(loss.item()))"
      ],
      "metadata": {
        "id": "m7jgimTlVwL6"
      },
      "execution_count": null,
      "outputs": []
    }
  ]
}